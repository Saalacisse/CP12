{
 "cells": [
  {
   "cell_type": "code",
   "execution_count": 2,
   "id": "f1aa383d",
   "metadata": {},
   "outputs": [],
   "source": [
    "# Importer le module tkinter\n",
    "import tkinter as tk\n",
    "\n",
    "# Définir la fonction pour convertir Fahrenheit en Celsius\n",
    "def fahrenheit_to_celsius():\n",
    "    # Récupérer la température en Fahrenheit entrée dans le widget d'entrée\n",
    "    fahrenheit = float(ent_temperature.get())\n",
    "    # Convertir la température en Celsius\n",
    "    celsius = (fahrenheit - 32) * 5 / 9\n",
    "    # Afficher la température en Celsius arrondie à deux décimales dans le widget d'étiquette de résultat\n",
    "    lbl_result[\"text\"] = f\"{round(celsius, 2)} \\N{DEGREE CELSIUS}\"\n",
    "\n",
    "# Créer la fenêtre principale\n",
    "window = tk.Tk()\n",
    "# Définir le titre de la fenêtre\n",
    "window.title(\"Convertisseur de température\")\n",
    "# Désactiver le redimensionnement de la fenêtre\n",
    "window.resizable(width=False, height=False)\n",
    "\n",
    "# Créer un cadre pour contenir le widget et l'étiquette d'entrée Fahrenheit\n",
    "frm_entry = tk.Frame(master=window)\n",
    "\n",
    "# Créer un widget d'entrée pour saisir la température en Fahrenheit\n",
    "ent_temperature = tk.Entry(master=frm_entry, width=10)\n",
    "# Créer un widget d'étiquette pour afficher le symbole du degré et le texte \"F\"\n",
    "lbl_temp = tk.Label(master=frm_entry, text=\"\\N{DEGREE FAHRENHEIT}\")\n",
    "\n",
    "# Utiliser le gestionnaire de géométrie grid() pour organiser les widgets d'entrée et d'étiquette dans le cadre\n",
    "ent_temperature.grid(row=0, column=0, sticky=\"e\")\n",
    "lbl_temp.grid(row=0, column=1, sticky=\"w\")\n",
    "\n",
    "# Créer un widget de bouton pour lancer le processus de conversion\n",
    "btn_convert = tk.Button(\n",
    "    master=window,\n",
    "    text=\"\\N{RIGHTWARDS BLACK ARROW}\",\n",
    "    command=fahrenheit_to_celsius\n",
    ")\n",
    "\n",
    "# Créer un widget d'étiquette pour afficher le résultat de la conversion en degrés Celsius\n",
    "lbl_result = tk.Label(master=window, text=\"\\N{DEGREE CELSIUS}\")\n",
    "\n",
    "# Utiliser le gestionnaire de géométrie grid() pour organiser les widgets cadre, bouton et étiquette de résultat\n",
    "frm_entry.grid(row=0, column=0, padx=10)\n",
    "btn_convert.grid(row=0, column=1, pady=10)\n",
    "lbl_result.grid(row=0, column=2, padx=10)\n",
    "\n",
    "# Démarrer la boucle principale de l'application\n",
    "window.mainloop()\n"
   ]
  },
  {
   "cell_type": "code",
   "execution_count": null,
   "id": "079be1d3",
   "metadata": {},
   "outputs": [],
   "source": []
  }
 ],
 "metadata": {
  "kernelspec": {
   "display_name": "Python 3 (ipykernel)",
   "language": "python",
   "name": "python3"
  },
  "language_info": {
   "codemirror_mode": {
    "name": "ipython",
    "version": 3
   },
   "file_extension": ".py",
   "mimetype": "text/x-python",
   "name": "python",
   "nbconvert_exporter": "python",
   "pygments_lexer": "ipython3",
   "version": "3.10.9"
  }
 },
 "nbformat": 4,
 "nbformat_minor": 5
}
